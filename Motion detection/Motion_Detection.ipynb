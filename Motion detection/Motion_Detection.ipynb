{
 "cells": [
  {
   "cell_type": "code",
   "execution_count": 1,
   "metadata": {},
   "outputs": [],
   "source": [
    "import cv2 as cv\n",
    "import numpy as np\n",
    "\n",
    "cap = cv.VideoCapture('vtest.avi')\n",
    "\n",
    "ret, frame1 = cap.read()\n",
    "ret, frame2 = cap.read()\n",
    "\n",
    "while(cap.isOpened()):\n",
    "    diff = cv.absdiff(frame1, frame2)\n",
    "    gray = cv.cvtColor(diff, cv.COLOR_BGR2GRAY)\n",
    "    blur = cv.GaussianBlur(gray, (5,5), 0)\n",
    "    _,thresh = cv.threshold(blur, 20, 255, cv.THRESH_BINARY)\n",
    "    dilate = cv.dilate(thresh, None, iterations=3)\n",
    "    contours, _ = cv.findContours(dilate, cv.RETR_TREE, cv.CHAIN_APPROX_SIMPLE)\n",
    "    \n",
    "    for contour in contours:\n",
    "        (x,y,w,h) = cv.boundingRect(contour)\n",
    "        \n",
    "        if cv.contourArea(contour) < 700:\n",
    "            continue\n",
    "        cv.rectangle(frame1, (x,y), (x+w,y+h), (0,0,255), 2)\n",
    "        cv.putText(frame1, \"Status: {}\".format('Movement'), (10,20), cv.FONT_HERSHEY_SIMPLEX,\n",
    "                  1, (255,0,0),3)\n",
    "    #cv.drawContours(frame1, contours, -1, (0,0,255), 2)\n",
    "    cv.imshow(\"feed\",frame1)\n",
    "    frame1 = frame2\n",
    "    rec, frame2 = cap.read()\n",
    "    \n",
    "    if cv.waitKey(40) & 0xFF == ord('q'):\n",
    "        break\n",
    "        \n",
    "cv.destroyAllWindows()\n",
    "cap.release()\n",
    "    "
   ]
  },
  {
   "cell_type": "code",
   "execution_count": null,
   "metadata": {},
   "outputs": [],
   "source": []
  }
 ],
 "metadata": {
  "kernelspec": {
   "display_name": "Python 3",
   "language": "python",
   "name": "python3"
  },
  "language_info": {
   "codemirror_mode": {
    "name": "ipython",
    "version": 3
   },
   "file_extension": ".py",
   "mimetype": "text/x-python",
   "name": "python",
   "nbconvert_exporter": "python",
   "pygments_lexer": "ipython3",
   "version": "3.7.6"
  }
 },
 "nbformat": 4,
 "nbformat_minor": 4
}
